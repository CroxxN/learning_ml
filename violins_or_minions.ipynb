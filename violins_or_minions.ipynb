{
  "nbformat": 4,
  "nbformat_minor": 0,
  "metadata": {
    "colab": {
      "provenance": [],
      "authorship_tag": "ABX9TyMqmRqJFPAijhuILIYeywfo",
      "include_colab_link": true
    },
    "kernelspec": {
      "name": "python3",
      "display_name": "Python 3"
    },
    "language_info": {
      "name": "python"
    },
    "accelerator": "GPU"
  },
  "cells": [
    {
      "cell_type": "markdown",
      "metadata": {
        "id": "view-in-github",
        "colab_type": "text"
      },
      "source": [
        "<a href=\"https://colab.research.google.com/github/CroxxN/learning_ml/blob/main/violins_or_minions.ipynb\" target=\"_parent\"><img src=\"https://colab.research.google.com/assets/colab-badge.svg\" alt=\"Open In Colab\"/></a>"
      ]
    },
    {
      "cell_type": "code",
      "source": [
        "train_dir = '/content/drive/Shareddrives/Class/Data_for_ml'\n",
        "test_dir = '/content/cats_and_dogs_filtered/validation'\n",
        "size = (150,150)"
      ],
      "metadata": {
        "id": "o_iKt7e9BHou"
      },
      "execution_count": 2,
      "outputs": []
    },
    {
      "cell_type": "code",
      "source": [
        "import tensorflow as tf\n",
        "import numpy as np"
      ],
      "metadata": {
        "id": "2XuJzzLRBTQV"
      },
      "execution_count": 3,
      "outputs": []
    },
    {
      "cell_type": "code",
      "source": [
        "from tensorflow.keras.preprocessing import image_dataset_from_directory"
      ],
      "metadata": {
        "id": "8jlCbQk9BcBs"
      },
      "execution_count": 4,
      "outputs": []
    },
    {
      "cell_type": "code",
      "source": [
        "from tensorflow.keras.preprocessing.image import ImageDataGenerator\n",
        "\n",
        "# All images will be rescaled by 1./255.\n",
        "train_datagen = ImageDataGenerator( rescale = 1.0/255. )\n",
        "test_datagen  = ImageDataGenerator( rescale = 1.0/255. )\n",
        "\n",
        "train_generator = train_datagen.flow_from_directory(train_dir,\n",
        "                                                    batch_size=20,\n",
        "                                                    class_mode='binary',\n",
        "                                                    target_size=(150, 150))     \n"
      ],
      "metadata": {
        "colab": {
          "base_uri": "https://localhost:8080/"
        },
        "id": "RH_hK9E9BW8F",
        "outputId": "93eedf26-05ad-4025-9a0e-41a9ebb64d8b"
      },
      "execution_count": 5,
      "outputs": [
        {
          "output_type": "stream",
          "name": "stdout",
          "text": [
            "Found 512 images belonging to 2 classes.\n"
          ]
        }
      ]
    },
    {
      "cell_type": "code",
      "source": [
        "train_ds.class_names"
      ],
      "metadata": {
        "id": "U7g7MK66CEVU"
      },
      "execution_count": null,
      "outputs": []
    },
    {
      "cell_type": "code",
      "source": [
        "import tensorflow as tf\n",
        "\n",
        "model = tf.keras.models.Sequential([\n",
        "    tf.keras.layers.Conv2D(16, (3,3), activation='relu', input_shape=(150, 150, 3)),\n",
        "    tf.keras.layers.MaxPooling2D(2,2),\n",
        "    tf.keras.layers.Conv2D(32, (3,3), activation='relu'),\n",
        "    tf.keras.layers.MaxPooling2D(2,2), \n",
        "    tf.keras.layers.Conv2D(64, (3,3), activation='relu'), \n",
        "    tf.keras.layers.MaxPooling2D(2,2),\n",
        "    tf.keras.layers.Flatten(), \n",
        "    tf.keras.layers.Dense(512, activation='relu'), \n",
        "    tf.keras.layers.Dense(1, activation='sigmoid')  \n",
        "])"
      ],
      "metadata": {
        "id": "mEJy9XItCKGW"
      },
      "execution_count": 6,
      "outputs": []
    },
    {
      "cell_type": "code",
      "source": [
        "from tensorflow.keras.optimizers import RMSprop\n",
        "\n",
        "model.compile(optimizer='adam',\n",
        "              loss='binary_crossentropy',\n",
        "              metrics = ['accuracy'])"
      ],
      "metadata": {
        "id": "vtZlmnbgC01-"
      },
      "execution_count": 33,
      "outputs": []
    },
    {
      "cell_type": "code",
      "source": [
        "model.fit(\n",
        "    train_generator,\n",
        "   # validation_data = validation_generator,\n",
        "    epochs = 15,\n",
        "    verbose =2\n",
        ")"
      ],
      "metadata": {
        "id": "XX8TDhNnDAwZ"
      },
      "execution_count": null,
      "outputs": []
    },
    {
      "cell_type": "code",
      "source": [
        "from tensorflow.keras.preprocessing import image"
      ],
      "metadata": {
        "id": "BEuHLhawGKST"
      },
      "execution_count": 10,
      "outputs": []
    },
    {
      "cell_type": "code",
      "source": [
        "dir = '/content/drive/MyDrive/Images/IMG_20221008_125138.jpg'\n",
        "img=image.load_img(dir, target_size=size)\n",
        "  \n",
        "x=image.img_to_array(img)\n",
        "x /= 255\n",
        "x=np.expand_dims(x, axis=0)\n",
        "result = model.predict(x, batch_size=10)\n",
        "print(result)\n",
        "if result[0]>0.6:\n",
        "  print(\"Violins\")\n",
        "else:\n",
        "  print(\"minions\")"
      ],
      "metadata": {
        "id": "SiSFEU-jDJZ4"
      },
      "execution_count": null,
      "outputs": []
    },
    {
      "cell_type": "code",
      "source": [
        "dir = '/content/cats_and_dogs_filtered/train/cats/cat.150.jpg'\n",
        "img=image.load_img(dir, target_size=size)\n",
        "  \n",
        "x=image.img_to_array(img)\n",
        "x /= 255\n",
        "x=np.expand_dims(x, axis=0)\n",
        "result = model.predict(x, batch_size=10)\n",
        "print(result)\n",
        "if result[0]>0.6:\n",
        "  print(\"VIolins\")\n",
        "else:\n",
        "  print(\"minions\")"
      ],
      "metadata": {
        "id": "jPjAeGTLG685"
      },
      "execution_count": null,
      "outputs": []
    },
    {
      "cell_type": "code",
      "source": [
        "model.save('/content/drive/Shareddrives/Class/working_first_model/first.h5')"
      ],
      "metadata": {
        "id": "iEUOran6ccA0"
      },
      "execution_count": 29,
      "outputs": []
    },
    {
      "cell_type": "code",
      "source": [
        "import tensorflow as tf\n",
        "from keras.models import load_model\n",
        "model = tf.keras.models.load_model(\"/content/drive/Shareddrives/Class/working_first_model/first.h5\")\n",
        "converter = tf.lite.TFLiteConverter.from_keras_model(model)\n",
        "tfmodel = converter.convert()\n",
        "open(\"model.tflite\", \"wb\") .write(tfmodel)"
      ],
      "metadata": {
        "colab": {
          "base_uri": "https://localhost:8080/"
        },
        "id": "mGl58HwhcnGG",
        "outputId": "48851bb2-a8b6-4e39-da3c-46dd7f1c82b1"
      },
      "execution_count": 30,
      "outputs": [
        {
          "output_type": "execute_result",
          "data": {
            "text/plain": [
              "37981828"
            ]
          },
          "metadata": {},
          "execution_count": 30
        }
      ]
    }
  ]
}