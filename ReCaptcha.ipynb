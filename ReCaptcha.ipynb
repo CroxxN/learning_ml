{
  "nbformat": 4,
  "nbformat_minor": 0,
  "metadata": {
    "colab": {
      "provenance": [],
      "mount_file_id": "133AQzhA3aCs58i-k1If-gXsd516cW37w",
      "authorship_tag": "ABX9TyOi5sbrz1Et5uLNkg/NBNl4",
      "include_colab_link": true
    },
    "kernelspec": {
      "name": "python3",
      "display_name": "Python 3"
    },
    "language_info": {
      "name": "python"
    },
    "accelerator": "GPU"
  },
  "cells": [
    {
      "cell_type": "markdown",
      "metadata": {
        "id": "view-in-github",
        "colab_type": "text"
      },
      "source": [
        "<a href=\"https://colab.research.google.com/github/CroxxN/learning_ml/blob/main/ReCaptcha.ipynb\" target=\"_parent\"><img src=\"https://colab.research.google.com/assets/colab-badge.svg\" alt=\"Open In Colab\"/></a>"
      ]
    },
    {
      "cell_type": "code",
      "execution_count": 2,
      "metadata": {
        "colab": {
          "base_uri": "https://localhost:8080/"
        },
        "id": "Hp0giap7oOHj",
        "outputId": "d55eebf8-74ef-466f-b5ec-ad49c998c184"
      },
      "outputs": [
        {
          "output_type": "stream",
          "name": "stdout",
          "text": [
            "--2022-10-23 16:17:45--  https://github.com/brian-the-dev/recaptcha-dataset/archive/refs/heads/main.zip\n",
            "Resolving github.com (github.com)... 20.205.243.166\n",
            "Connecting to github.com (github.com)|20.205.243.166|:443... connected.\n",
            "HTTP request sent, awaiting response... 302 Found\n",
            "Location: https://codeload.github.com/brian-the-dev/recaptcha-dataset/zip/refs/heads/main [following]\n",
            "--2022-10-23 16:17:45--  https://codeload.github.com/brian-the-dev/recaptcha-dataset/zip/refs/heads/main\n",
            "Resolving codeload.github.com (codeload.github.com)... 20.205.243.165\n",
            "Connecting to codeload.github.com (codeload.github.com)|20.205.243.165|:443... connected.\n",
            "HTTP request sent, awaiting response... 200 OK\n",
            "Length: unspecified [application/zip]\n",
            "Saving to: ‘main.zip’\n",
            "\n",
            "main.zip                [       <=>          ] 399.26M  17.5MB/s    in 25s     \n",
            "\n",
            "2022-10-23 16:18:11 (15.8 MB/s) - ‘main.zip’ saved [418651036]\n",
            "\n"
          ]
        }
      ],
      "source": [
        "!wget https://github.com/brian-the-dev/recaptcha-dataset/archive/refs/heads/main.zip"
      ]
    },
    {
      "cell_type": "code",
      "source": [
        "!unzip /content/main.zip"
      ],
      "metadata": {
        "id": "DAkBdsaaoTNc"
      },
      "execution_count": null,
      "outputs": []
    },
    {
      "cell_type": "code",
      "source": [
        "dir = '/content/recaptcha-dataset-main/Large'\n",
        "image_size = (120,120)"
      ],
      "metadata": {
        "id": "jyHhDGJFo3oW"
      },
      "execution_count": 40,
      "outputs": []
    },
    {
      "cell_type": "code",
      "source": [
        "from PIL import Image"
      ],
      "metadata": {
        "id": "_TMTmAwlpbBb"
      },
      "execution_count": 6,
      "outputs": []
    },
    {
      "cell_type": "code",
      "source": [
        "from matplotlib import image\n",
        "\n",
        "img = Image.open('/content/recaptcha-dataset-main/Large/Hydrant/Hydrant (12).png')\n",
        "img = img.convert('RGB')\n",
        "img"
      ],
      "metadata": {
        "colab": {
          "base_uri": "https://localhost:8080/",
          "height": 137
        },
        "id": "iyp2kYCApesk",
        "outputId": "213c2c1d-45a5-41a4-d871-366e4ba96c51"
      },
      "execution_count": 92,
      "outputs": [
        {
          "output_type": "execute_result",
          "data": {
            "text/plain": [
              "<PIL.Image.Image image mode=RGB size=120x120 at 0x7FF51C47A0D0>"
            ],
            "image/png": "[encoded data removed]"
          },
          "metadata": {},
          "execution_count": 92
        }
      ]
    },
    {
      "cell_type": "code",
      "source": [
        "img = np.asarray(img)\n",
        "img.shape"
      ],
      "metadata": {
        "colab": {
          "base_uri": "https://localhost:8080/"
        },
        "id": "K2XbNnliprxw",
        "outputId": "b3ad03f2-3d3c-49db-dd59-122d0f555bfd"
      },
      "execution_count": 93,
      "outputs": [
        {
          "output_type": "execute_result",
          "data": {
            "text/plain": [
              "(120, 120, 3)"
            ]
          },
          "metadata": {},
          "execution_count": 93
        }
      ]
    },
    {
      "cell_type": "code",
      "source": [
        "import tensorflow as tf\n",
        "import numpy as np\n",
        "import matplotlib.pyplot as plt\n"
      ],
      "metadata": {
        "id": "PowNF2frp0tM"
      },
      "execution_count": 16,
      "outputs": []
    },
    {
      "cell_type": "code",
      "source": [
        "from tensorflow.keras.preprocessing.image import ImageDataGenerator\n",
        "\n",
        "generator = ImageDataGenerator(\n",
        "    rescale=1./255,\n",
        "    zoom_range=0.2,\n",
        "    horizontal_flip = True,\n",
        "    validation_split=0.2\n",
        ")\n",
        "train_ds = generator.flow_from_directory(\n",
        "    dir,\n",
        "    subset = \"training\",\n",
        "    target_size = (120,120),\n",
        "    batch_size = 16,\n",
        "    class_mode = 'categorical'\n",
        "\n",
        ")\n",
        "\n",
        "test_ds = generator.flow_from_directory(\n",
        "    dir,\n",
        "    subset = \"validation\",\n",
        "    target_size = (120,120),\n",
        "    batch_size = 16,\n",
        "    class_mode = 'categorical'\n",
        ")"
      ],
      "metadata": {
        "colab": {
          "base_uri": "https://localhost:8080/"
        },
        "id": "YPFH4TrLqFpN",
        "outputId": "290b49c5-7a7a-49f2-87fc-8df62fd46b0b"
      },
      "execution_count": 85,
      "outputs": [
        {
          "output_type": "stream",
          "name": "stdout",
          "text": [
            "Found 9424 images belonging to 13 classes.\n",
            "Found 2350 images belonging to 13 classes.\n"
          ]
        }
      ]
    },
    {
      "cell_type": "code",
      "source": [
        "model = tf.keras.Sequential([\n",
        "    tf.keras.layers.Conv2D(32, (3,3), input_shape= (120, 120, 3), activation=\"relu\"),\n",
        "    tf.keras.layers.MaxPooling2D(2,2),\n",
        "    tf.keras.layers.Conv2D(64, (3,3), activation=\"relu\"),\n",
        "    tf.keras.layers.MaxPooling2D(2,2),\n",
        "    tf.keras.layers.Conv2D(64, (3,3), padding=\"same\",activation=\"relu\"),\n",
        "    tf.keras.layers.MaxPooling2D(2,2),\n",
        "    tf.keras.layers.Conv2D(64, (3,3), padding=\"same\",activation=\"relu\"),\n",
        "    tf.keras.layers.MaxPooling2D(2,2),\n",
        "    tf.keras.layers.Flatten(),\n",
        "    tf.keras.layers.Dense(128, activation=\"relu\"),\n",
        "    tf.keras.layers.Dense(128, activation=\"relu\"),\n",
        "    tf.keras.layers.Dense(13, activation=\"softmax\")\n",
        "])"
      ],
      "metadata": {
        "id": "kd_oUzYxrpDG"
      },
      "execution_count": 49,
      "outputs": []
    },
    {
      "cell_type": "code",
      "source": [
        "model.summary()"
      ],
      "metadata": {
        "colab": {
          "base_uri": "https://localhost:8080/"
        },
        "id": "bDyQLGI7uCNL",
        "outputId": "bc1ad41b-9b97-4c15-c2b1-280a7cb28e17"
      },
      "execution_count": 47,
      "outputs": [
        {
          "output_type": "stream",
          "name": "stdout",
          "text": [
            "Model: \"sequential_7\"\n",
            "_________________________________________________________________\n",
            " Layer (type)                Output Shape              Param #   \n",
            "=================================================================\n",
            " conv2d_29 (Conv2D)          (None, 118, 118, 32)      896       \n",
            "                                                                 \n",
            " max_pooling2d_28 (MaxPoolin  (None, 59, 59, 32)       0         \n",
            " g2D)                                                            \n",
            "                                                                 \n",
            " conv2d_30 (Conv2D)          (None, 57, 57, 64)        18496     \n",
            "                                                                 \n",
            " max_pooling2d_29 (MaxPoolin  (None, 28, 28, 64)       0         \n",
            " g2D)                                                            \n",
            "                                                                 \n",
            " conv2d_31 (Conv2D)          (None, 28, 28, 64)        36928     \n",
            "                                                                 \n",
            " max_pooling2d_30 (MaxPoolin  (None, 14, 14, 64)       0         \n",
            " g2D)                                                            \n",
            "                                                                 \n",
            " conv2d_32 (Conv2D)          (None, 14, 14, 64)        36928     \n",
            "                                                                 \n",
            " max_pooling2d_31 (MaxPoolin  (None, 7, 7, 64)         0         \n",
            " g2D)                                                            \n",
            "                                                                 \n",
            " flatten_7 (Flatten)         (None, 3136)              0         \n",
            "                                                                 \n",
            " dense_21 (Dense)            (None, 128)               401536    \n",
            "                                                                 \n",
            " dense_22 (Dense)            (None, 128)               16512     \n",
            "                                                                 \n",
            " dense_23 (Dense)            (None, 13)                1677      \n",
            "                                                                 \n",
            "=================================================================\n",
            "Total params: 512,973\n",
            "Trainable params: 512,973\n",
            "Non-trainable params: 0\n",
            "_________________________________________________________________\n"
          ]
        }
      ]
    },
    {
      "cell_type": "code",
      "source": [
        "model.compile(optimizer=\"adam\", loss=\"categorical_crossentropy\", metrics=[\"accuracy\"])"
      ],
      "metadata": {
        "id": "i9W96BREuLCn"
      },
      "execution_count": 52,
      "outputs": []
    },
    {
      "cell_type": "code",
      "source": [
        "model.fit(\n",
        "    train_ds,\n",
        "    validation_data = test_ds,\n",
        "    epochs=20\n",
        ")"
      ],
      "metadata": {
        "id": "NyzcM-54ukl9"
      },
      "execution_count": null,
      "outputs": []
    },
    {
      "cell_type": "code",
      "source": [
        "\n",
        "\n",
        "\n",
        "imar = np.expand_dims(img, axis=0)\n",
        "imarray = imar/ 255.0\n",
        "\n",
        "model.predict(imar)"
      ],
      "metadata": {
        "colab": {
          "base_uri": "https://localhost:8080/"
        },
        "id": "Y9bvAmA7woEk",
        "outputId": "de5a22fd-367a-4deb-e0e1-f9a7c0946971"
      },
      "execution_count": 94,
      "outputs": [
        {
          "output_type": "stream",
          "name": "stdout",
          "text": [
            "1/1 [==============================] - 0s 18ms/step\n"
          ]
        },
        {
          "output_type": "execute_result",
          "data": {
            "text/plain": [
              "array([[0., 0., 0., 0., 0., 0., 0., 1., 0., 0., 0., 0., 0.]],\n",
              "      dtype=float32)"
            ]
          },
          "metadata": {},
          "execution_count": 94
        }
      ]
    },
    {
      "cell_type": "code",
      "source": [
        "model.save(\"/content/drive/Shareddrives/Class/captcha.h5\")"
      ],
      "metadata": {
        "id": "FSCVVKLl07GF"
      },
      "execution_count": 95,
      "outputs": []
    }
  ]
}